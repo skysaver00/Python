{
 "cells": [
  {
   "cell_type": "code",
   "execution_count": 1,
   "metadata": {},
   "outputs": [
    {
     "name": "stdout",
     "output_type": "stream",
     "text": [
      "Hello Young Woo Kim\n"
     ]
    }
   ],
   "source": [
    "my_name = \"Young Woo Kim\"\n",
    "print(\"Hello \" + my_name)"
   ]
  },
  {
   "cell_type": "markdown",
   "metadata": {},
   "source": [
    "# .format()을 이용해보자!\n",
    ".format('something1', 'something2')"
   ]
  },
  {
   "cell_type": "code",
   "execution_count": 2,
   "metadata": {},
   "outputs": [
    {
     "name": "stdout",
     "output_type": "stream",
     "text": [
      "This is a string INSERTED!! \n"
     ]
    }
   ],
   "source": [
    "print('This is a string {} ' .format('INSERTED!!'))"
   ]
  },
  {
   "cell_type": "code",
   "execution_count": 3,
   "metadata": {},
   "outputs": [
    {
     "name": "stdout",
     "output_type": "stream",
     "text": [
      "The fox rabbit bear is tiger\n"
     ]
    }
   ],
   "source": [
    "print(\"The {} {} {} is {}\" .format('fox', 'rabbit', 'bear', 'tiger'))"
   ]
  },
  {
   "cell_type": "markdown",
   "metadata": {},
   "source": [
    "지정을 안하면 각각 순서대로 0, 1, 2, 3 이렇게 들어가는 것을 확인할 수 있다."
   ]
  },
  {
   "cell_type": "code",
   "execution_count": 7,
   "metadata": {},
   "outputs": [
    {
     "name": "stdout",
     "output_type": "stream",
     "text": [
      "The red yellow orange is indigo blue green\n"
     ]
    }
   ],
   "source": [
    "print(\"The {0} {2} {1} is {5} {4} {3}\" .format('red', 'orange', 'yellow', 'green', 'blue', 'indigo', 'purple'))"
   ]
  },
  {
   "cell_type": "markdown",
   "metadata": {},
   "source": [
    "이렇게 내 마음대로 순서를 바꿀 수도 있다. 또는 변수처럼 지정할 수도 있다."
   ]
  },
  {
   "cell_type": "code",
   "execution_count": 8,
   "metadata": {},
   "outputs": [
    {
     "name": "stdout",
     "output_type": "stream",
     "text": [
      "The red green blue yellow\n"
     ]
    }
   ],
   "source": [
    "print(\"The {r} {g} {b} {y}\" .format(r = 'red', b = \"blue\", g = \"green\", y = 'yellow'))"
   ]
  },
  {
   "cell_type": "markdown",
   "metadata": {},
   "source": [
    "Float formatting은 {value:width.precision f}이렇게 따라온다."
   ]
  },
  {
   "cell_type": "code",
   "execution_count": 9,
   "metadata": {},
   "outputs": [
    {
     "data": {
      "text/plain": [
       "0.12706480304955528"
      ]
     },
     "execution_count": 9,
     "metadata": {},
     "output_type": "execute_result"
    }
   ],
   "source": [
    "result = 100/ 787\n",
    "result"
   ]
  },
  {
   "cell_type": "code",
   "execution_count": 15,
   "metadata": {},
   "outputs": [
    {
     "name": "stdout",
     "output_type": "stream",
     "text": [
      "the result was                                                                                              0.12706\n"
     ]
    }
   ],
   "source": [
    "print(\"the result was {r:100.5f}\" .format(r = result))"
   ]
  },
  {
   "cell_type": "markdown",
   "metadata": {},
   "source": [
    "이렇게 소수점 다섯자리까지 나오게 된다. 앞에있는 100은 칸이다. 100자리를 남겨두고 출력하게 된다"
   ]
  },
  {
   "cell_type": "code",
   "execution_count": 17,
   "metadata": {},
   "outputs": [],
   "source": [
    "result = 104.12345"
   ]
  },
  {
   "cell_type": "code",
   "execution_count": 18,
   "metadata": {},
   "outputs": [
    {
     "name": "stdout",
     "output_type": "stream",
     "text": [
      "the result was                                                                                            104.12345\n"
     ]
    }
   ],
   "source": [
    "print(\"the result was {r:100.5f}\" .format(r = result))"
   ]
  },
  {
   "cell_type": "markdown",
   "metadata": {},
   "source": [
    "## 다음 함수는 파이썬 3.6때 새로 소개된 함수이다. python 2에서는 안된다."
   ]
  },
  {
   "cell_type": "code",
   "execution_count": 19,
   "metadata": {},
   "outputs": [
    {
     "name": "stdout",
     "output_type": "stream",
     "text": [
      "Hello, his name is Young Woo Kim\n"
     ]
    }
   ],
   "source": [
    "name = \"Young Woo Kim\"\n",
    "print(f'Hello, his name is {name}')"
   ]
  },
  {
   "cell_type": "markdown",
   "metadata": {},
   "source": [
    "이거 파이선 2나 3.6이하에서는 절대로 안된다 ㅋㅋㅋ"
   ]
  },
  {
   "cell_type": "code",
   "execution_count": 21,
   "metadata": {},
   "outputs": [],
   "source": [
    "name = \"sam\"\n",
    "age = 3\n",
    "name2 = \"john\"\n",
    "age2 = 10"
   ]
  },
  {
   "cell_type": "code",
   "execution_count": 24,
   "metadata": {},
   "outputs": [
    {
     "name": "stdout",
     "output_type": "stream",
     "text": [
      "sam is 3 years old and john is 10 years old\n"
     ]
    }
   ],
   "source": [
    "print(f\"{name} is {age} years old and {name2} is {age2} years old\")"
   ]
  },
  {
   "cell_type": "code",
   "execution_count": null,
   "metadata": {},
   "outputs": [],
   "source": []
  }
 ],
 "metadata": {
  "kernelspec": {
   "display_name": "Python 3",
   "language": "python",
   "name": "python3"
  },
  "language_info": {
   "codemirror_mode": {
    "name": "ipython",
    "version": 3
   },
   "file_extension": ".py",
   "mimetype": "text/x-python",
   "name": "python",
   "nbconvert_exporter": "python",
   "pygments_lexer": "ipython3",
   "version": "3.8.5"
  }
 },
 "nbformat": 4,
 "nbformat_minor": 4
}
